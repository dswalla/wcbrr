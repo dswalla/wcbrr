{
 "cells": [
  {
   "cell_type": "markdown",
   "id": "6c86e511-d1a8-4fc5-bb84-40e1fd69a0ed",
   "metadata": {},
   "source": [
    "# WCBR<sup>2</sup>: Weekly Comic Book Roundup Roundup"
   ]
  },
  {
   "cell_type": "markdown",
   "id": "5a26d1ca-ed96-47ed-8e1f-d3cbebbce71c",
   "metadata": {},
   "source": [
    "### A pipeline for scraping the week's top-rated comics from comicbookroundup.com"
   ]
  },
  {
   "cell_type": "markdown",
   "id": "67b43bde-22ff-4c9d-859a-510c1a950470",
   "metadata": {},
   "source": [
    "Import all the required packages for requesting, scraping, and transforming the comic book data:"
   ]
  },
  {
   "cell_type": "code",
   "execution_count": 1,
   "id": "de40425e-2420-4a36-b49b-37240bb07f00",
   "metadata": {},
   "outputs": [],
   "source": [
    "from bs4 import BeautifulSoup\n",
    "from datetime import date\n",
    "import matplotlib.pyplot as plt\n",
    "import pandas as pd\n",
    "import requests\n",
    "\n",
    "%matplotlib inline"
   ]
  },
  {
   "cell_type": "markdown",
   "id": "0429a083-9f64-41f9-8272-48193c640850",
   "metadata": {},
   "source": [
    "The endpoint for the weekly comic book reviews:"
   ]
  },
  {
   "cell_type": "code",
   "execution_count": 2,
   "id": "c192ff12-e7c4-4f8e-b6ee-769e48f79a39",
   "metadata": {},
   "outputs": [],
   "source": [
    "CBR_URL = \"https://comicbookroundup.com/comic-books/release-dates/\""
   ]
  },
  {
   "cell_type": "markdown",
   "id": "27ecd8e9-4364-4da6-a591-a615298031e9",
   "metadata": {},
   "source": [
    "New comics are released on Wednesdays, so we grab today's date and put together the correct \"week-of\" date:"
   ]
  },
  {
   "cell_type": "code",
   "execution_count": 3,
   "id": "08262d0e-ed0b-4310-a6c8-8eeeeeade40e",
   "metadata": {},
   "outputs": [
    {
     "name": "stdout",
     "output_type": "stream",
     "text": [
      "https://comicbookroundup.com/comic-books/release-dates/2022-09-14\n"
     ]
    }
   ],
   "source": [
    "today = date.today()\n",
    "day_offset = today.isoweekday() - 3\n",
    "year, month, day = list(map(int, [today.year, today.month, (today.day - day_offset)]))\n",
    "\n",
    "weekly_url = f\"{CBR_URL}{year}-{month:02d}-{day:02d}\"\n",
    "print(weekly_url)"
   ]
  },
  {
   "cell_type": "markdown",
   "id": "6df3f204-d635-49d7-9811-6899018d730d",
   "metadata": {},
   "source": [
    "Request the page for scraping:"
   ]
  },
  {
   "cell_type": "code",
   "execution_count": 5,
   "id": "f8dbb8aa-8d12-42d3-aba2-d79ca9d3cea9",
   "metadata": {},
   "outputs": [],
   "source": [
    "page = requests.get(weekly_url)"
   ]
  },
  {
   "cell_type": "markdown",
   "id": "072969f5-e898-4f16-b5a8-f089fa917518",
   "metadata": {},
   "source": [
    "Use BeautifulSoup library to parse HTML contents and get the individual publisher's review tables:"
   ]
  },
  {
   "cell_type": "code",
   "execution_count": 6,
   "id": "2cbcd534-8cca-4977-a31d-effa913f100f",
   "metadata": {},
   "outputs": [],
   "source": [
    "soup = BeautifulSoup(page.content, \"html5lib\")\n",
    "reviewsbyweek = soup.find(id=\"reviewsbyweek\")\n",
    "tables = reviewsbyweek.find_all(\"table\")"
   ]
  },
  {
   "cell_type": "markdown",
   "id": "7de43596-ecda-4e5e-af83-a0c0cddc8644",
   "metadata": {},
   "source": [
    "Iterate through each publisher table and grab the information for each comic book to put in a DataFrame (indexing on title). Some titles show up multiple times so we add in a condition to not add any duplicates:"
   ]
  },
  {
   "cell_type": "code",
   "execution_count": 10,
   "id": "da85239a-2463-40a8-a82d-1b427092d1a2",
   "metadata": {},
   "outputs": [],
   "source": [
    "comics = pd.DataFrame()\n",
    "for table in tables:\n",
    "    tr_list = table.find_all(\"tr\")\n",
    "    for tr in tr_list:\n",
    "        title = tr.find(class_=\"title\").text.strip()\n",
    "        rating = tr.find(class_=\"rating\").text.strip()\n",
    "        if (title != \"Title\") and (rating != \"Rating\"):\n",
    "            if title not in comics.index:\n",
    "                comic_data = {\n",
    "                    \"title\": title,\n",
    "                    \"rating\": rating\n",
    "                }\n",
    "\n",
    "                comic = pd.DataFrame([comic_data])\n",
    "                comic = comic.set_index(\"title\")\n",
    "                comics = pd.concat([comics, comic])\n",
    "                \n",
    "comics[\"rating\"] = comics[\"rating\"].apply(lambda x: float(x))"
   ]
  },
  {
   "cell_type": "markdown",
   "id": "f9d6978d-1947-4043-bc5d-4324947555b7",
   "metadata": {},
   "source": [
    "Take a look at the first ten comics to confirm the data was pulled okay:"
   ]
  },
  {
   "cell_type": "code",
   "execution_count": 11,
   "id": "0e7d157a-bb0a-4484-9065-1164e45d5ff5",
   "metadata": {},
   "outputs": [
    {
     "data": {
      "text/html": [
       "<div>\n",
       "<style scoped>\n",
       "    .dataframe tbody tr th:only-of-type {\n",
       "        vertical-align: middle;\n",
       "    }\n",
       "\n",
       "    .dataframe tbody tr th {\n",
       "        vertical-align: top;\n",
       "    }\n",
       "\n",
       "    .dataframe thead th {\n",
       "        text-align: right;\n",
       "    }\n",
       "</style>\n",
       "<table border=\"1\" class=\"dataframe\">\n",
       "  <thead>\n",
       "    <tr style=\"text-align: right;\">\n",
       "      <th></th>\n",
       "      <th>rating</th>\n",
       "    </tr>\n",
       "    <tr>\n",
       "      <th>title</th>\n",
       "      <th></th>\n",
       "    </tr>\n",
       "  </thead>\n",
       "  <tbody>\n",
       "    <tr>\n",
       "      <th>Battle Action Special OGN</th>\n",
       "      <td>8.6</td>\n",
       "    </tr>\n",
       "    <tr>\n",
       "      <th>There's Something Wrong With Patrick Todd #3</th>\n",
       "      <td>8.0</td>\n",
       "    </tr>\n",
       "    <tr>\n",
       "      <th>Hit Me Vol. 1 TP</th>\n",
       "      <td>8.0</td>\n",
       "    </tr>\n",
       "    <tr>\n",
       "      <th>Love and War  Collected TP</th>\n",
       "      <td>8.0</td>\n",
       "    </tr>\n",
       "    <tr>\n",
       "      <th>Maskerade #1</th>\n",
       "      <td>8.5</td>\n",
       "    </tr>\n",
       "    <tr>\n",
       "      <th>Assassin's Creed Valhalla Forgotten Myths HC</th>\n",
       "      <td>7.7</td>\n",
       "    </tr>\n",
       "    <tr>\n",
       "      <th>Black Hammer Vol. 1 Omnibus TP</th>\n",
       "      <td>8.8</td>\n",
       "    </tr>\n",
       "    <tr>\n",
       "      <th>The Sword of Hyperborea  Collected HC</th>\n",
       "      <td>8.3</td>\n",
       "    </tr>\n",
       "    <tr>\n",
       "      <th>Batgirls #10</th>\n",
       "      <td>7.5</td>\n",
       "    </tr>\n",
       "    <tr>\n",
       "      <th>Batman vs. Robin #1</th>\n",
       "      <td>8.4</td>\n",
       "    </tr>\n",
       "  </tbody>\n",
       "</table>\n",
       "</div>"
      ],
      "text/plain": [
       "                                              rating\n",
       "title                                               \n",
       "Battle Action Special OGN                        8.6\n",
       "There's Something Wrong With Patrick Todd #3     8.0\n",
       "Hit Me Vol. 1 TP                                 8.0\n",
       "Love and War  Collected TP                       8.0\n",
       "Maskerade #1                                     8.5\n",
       "Assassin's Creed Valhalla Forgotten Myths HC     7.7\n",
       "Black Hammer Vol. 1 Omnibus TP                   8.8\n",
       "The Sword of Hyperborea  Collected HC            8.3\n",
       "Batgirls #10                                     7.5\n",
       "Batman vs. Robin #1                              8.4"
      ]
     },
     "execution_count": 11,
     "metadata": {},
     "output_type": "execute_result"
    }
   ],
   "source": [
    "comics.head(10)"
   ]
  },
  {
   "cell_type": "markdown",
   "id": "e4c3cccd-94a8-4818-a4ea-b010b539741c",
   "metadata": {},
   "source": [
    "## Visualization"
   ]
  },
  {
   "cell_type": "markdown",
   "id": "a5bcc728-489b-475b-841b-1b392f2d54b3",
   "metadata": {},
   "source": [
    "Start by sorting the titles by their ratings:"
   ]
  },
  {
   "cell_type": "code",
   "execution_count": 12,
   "id": "6418ea98-af99-44eb-9e85-fff916c00281",
   "metadata": {},
   "outputs": [],
   "source": [
    "comics = comics.sort_values(\"rating\", ascending=False)"
   ]
  },
  {
   "cell_type": "code",
   "execution_count": 13,
   "id": "df181325-44a2-4315-ac09-73fd06086c64",
   "metadata": {},
   "outputs": [
    {
     "data": {
      "image/png": "[encoded data removed]",
      "text/plain": [
       "<Figure size 720x360 with 1 Axes>"
      ]
     },
     "metadata": {
      "needs_background": "light"
     },
     "output_type": "display_data"
    }
   ],
   "source": [
    "top10 = comics[:10]\n",
    "plt.figure(figsize=(10,5))\n",
    "plt.title(\"This Week's Top 10\")\n",
    "plt.xlabel(\"Comic\")\n",
    "plt.ylabel(\"Rating\")\n",
    "plt.xticks(rotation=90)\n",
    "plt.bar(top10.index, top10[\"rating\"], width=0.4)\n",
    "plt.show()"
   ]
  }
 ],
 "metadata": {
  "kernelspec": {
   "display_name": "Python 3 (ipykernel)",
   "language": "python",
   "name": "python3"
  },
  "language_info": {
   "codemirror_mode": {
    "name": "ipython",
    "version": 3
   },
   "file_extension": ".py",
   "mimetype": "text/x-python",
   "name": "python",
   "nbconvert_exporter": "python",
   "pygments_lexer": "ipython3",
   "version": "3.10.5"
  }
 },
 "nbformat": 4,
 "nbformat_minor": 5
}
